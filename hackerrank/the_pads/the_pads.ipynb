{
 "cells": [
  {
   "cell_type": "code",
   "execution_count": 15,
   "metadata": {},
   "outputs": [],
   "source": [
    "from pyspark.sql import SparkSession\n",
    "from pyspark.sql.types import StructType, StructField, StringType\n",
    "from pyspark.sql.functions import concat, col, substring, lit, lower"
   ]
  },
  {
   "cell_type": "code",
   "execution_count": 2,
   "metadata": {},
   "outputs": [
    {
     "name": "stderr",
     "output_type": "stream",
     "text": [
      "Setting default log level to \"WARN\".\n",
      "To adjust logging level use sc.setLogLevel(newLevel). For SparkR, use setLogLevel(newLevel).\n"
     ]
    },
    {
     "name": "stdout",
     "output_type": "stream",
     "text": [
      "23/02/02 13:45:15 WARN NativeCodeLoader: Unable to load native-hadoop library for your platform... using builtin-java classes where applicable\n"
     ]
    }
   ],
   "source": [
    "spark = SparkSession.builder.master('local[*]').appName('the_pads').getOrCreate()"
   ]
  },
  {
   "cell_type": "code",
   "execution_count": 4,
   "metadata": {},
   "outputs": [],
   "source": [
    "data = [\n",
    "    (\"Samantha\", \"Doctor\"),\n",
    "    (\"Julia\", \"Actor\"),\n",
    "    (\"Maria\", \"Actor\"),\n",
    "    (\"Meera\", \"Singer\"),\n",
    "    (\"Ashley\", \"Professor\"),\n",
    "    (\"Ketty\", \"Professor\"),\n",
    "    (\"Christeen\", \"Professor\"),\n",
    "    (\"Jane\", \"Actor\"),\n",
    "    (\"Jenny\", \"Doctor\"),\n",
    "    (\"Priya\", \"Singer\")\n",
    "]\n",
    "\n",
    "schema = StructType([\n",
    "    StructField(\"Name\", StringType(), True),\n",
    "    StructField(\"Occupation\", StringType(), True)\n",
    "])\n",
    "\n",
    "occupations = spark.createDataFrame(data=data, schema=schema)"
   ]
  },
  {
   "cell_type": "code",
   "execution_count": 5,
   "metadata": {},
   "outputs": [
    {
     "name": "stdout",
     "output_type": "stream",
     "text": [
      "+---------+----------+\n",
      "|     Name|Occupation|\n",
      "+---------+----------+\n",
      "| Samantha|    Doctor|\n",
      "|    Julia|     Actor|\n",
      "|    Maria|     Actor|\n",
      "|    Meera|    Singer|\n",
      "|   Ashley| Professor|\n",
      "|    Ketty| Professor|\n",
      "|Christeen| Professor|\n",
      "|     Jane|     Actor|\n",
      "|    Jenny|    Doctor|\n",
      "|    Priya|    Singer|\n",
      "+---------+----------+\n",
      "\n"
     ]
    },
    {
     "name": "stderr",
     "output_type": "stream",
     "text": [
      "                                                                                \r"
     ]
    }
   ],
   "source": [
    "occupations.show()"
   ]
  },
  {
   "cell_type": "code",
   "execution_count": 13,
   "metadata": {},
   "outputs": [
    {
     "name": "stdout",
     "output_type": "stream",
     "text": [
      "+-------------------+\n",
      "|Name and Occupation|\n",
      "+-------------------+\n",
      "|        Samantha(D)|\n",
      "|           Julia(A)|\n",
      "|           Maria(A)|\n",
      "|           Meera(S)|\n",
      "|          Ashley(P)|\n",
      "|           Ketty(P)|\n",
      "|       Christeen(P)|\n",
      "|            Jane(A)|\n",
      "|           Jenny(D)|\n",
      "|           Priya(S)|\n",
      "+-------------------+\n",
      "\n"
     ]
    }
   ],
   "source": [
    "result1_df = occupations.select(concat(col('Name'), lit('('), substring(col('Occupation'), 0, 1), lit(')')).alias('Name and Occupation'))\n",
    "result1_df.show(10)"
   ]
  },
  {
   "cell_type": "code",
   "execution_count": 19,
   "metadata": {},
   "outputs": [
    {
     "name": "stdout",
     "output_type": "stream",
     "text": [
      "+--------------------+\n",
      "|    Occupation Count|\n",
      "+--------------------+\n",
      "|There are a total...|\n",
      "|There are a total...|\n",
      "|There are a total...|\n",
      "|There are a total...|\n",
      "+--------------------+\n",
      "\n"
     ]
    }
   ],
   "source": [
    "result2_df = occupations.groupBy(col('Occupation')).count()\\\n",
    "    .orderBy(col('count'))\\\n",
    "    .select(concat(lit('There are a total of '), col('count'), lit(' '), lower(col('Occupation')), lit('s.')).alias('Occupation Count'))\n",
    "result2_df.show()"
   ]
  }
 ],
 "metadata": {
  "kernelspec": {
   "display_name": "Python 3",
   "language": "python",
   "name": "python3"
  },
  "language_info": {
   "codemirror_mode": {
    "name": "ipython",
    "version": 3
   },
   "file_extension": ".py",
   "mimetype": "text/x-python",
   "name": "python",
   "nbconvert_exporter": "python",
   "pygments_lexer": "ipython3",
   "version": "3.9.6"
  },
  "orig_nbformat": 4,
  "vscode": {
   "interpreter": {
    "hash": "31f2aee4e71d21fbe5cf8b01ff0e069b9275f58929596ceb00d14d90e3e16cd6"
   }
  }
 },
 "nbformat": 4,
 "nbformat_minor": 2
}
